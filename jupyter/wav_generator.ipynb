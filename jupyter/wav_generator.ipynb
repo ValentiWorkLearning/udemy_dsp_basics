{
 "cells": [
  {
   "cell_type": "code",
   "execution_count": 19,
   "metadata": {},
   "outputs": [
    {
     "name": "stdout",
     "output_type": "stream",
     "text": [
      "1.024\n"
     ]
    }
   ],
   "source": [
    "from scipy.io.wavfile import write\n",
    "import numpy as np\n",
    "\n",
    "freq = 100\n",
    "sample_rate = 32000\n",
    "duration = 2**15 / sample_rate  # Make it the perfect size for FFT\n",
    "print(duration)\n",
    "\n",
    "t = np.linspace(0, duration, int(sample_rate * duration), endpoint=False)  # Corrected line\n",
    "\n",
    "test_sine_time = np.sin(2 * np.pi * freq * t)\n",
    "amplitude = 1.0  # Assuming you want to scale the amplitude to 1\n",
    "\n",
    "# Scale the waveform to fit within the range of a float32\n",
    "scaled_waveform = amplitude * test_sine_time.astype(np.float32)"
   ]
  },
  {
   "cell_type": "code",
   "execution_count": 20,
   "metadata": {},
   "outputs": [],
   "source": [
    "write(\"example.wav\", sample_rate, scaled_waveform.astype(np.float32))"
   ]
  }
 ],
 "metadata": {
  "kernelspec": {
   "display_name": "Python 3.11.5 ('base')",
   "language": "python",
   "name": "python3"
  },
  "language_info": {
   "codemirror_mode": {
    "name": "ipython",
    "version": 3
   },
   "file_extension": ".py",
   "mimetype": "text/x-python",
   "name": "python",
   "nbconvert_exporter": "python",
   "pygments_lexer": "ipython3",
   "version": "3.11.5"
  },
  "orig_nbformat": 4,
  "vscode": {
   "interpreter": {
    "hash": "e7cb1b9ae4d417fedf7f40a8eec98f7cfbd359e096bd857395a915f4609834ce"
   }
  }
 },
 "nbformat": 4,
 "nbformat_minor": 2
}
